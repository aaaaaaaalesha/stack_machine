{
 "cells": [
  {
   "cell_type": "code",
   "execution_count": 27,
   "metadata": {},
   "outputs": [],
   "source": [
    "from src.stack_machine import StackMachine"
   ]
  },
  {
   "cell_type": "markdown",
   "metadata": {},
   "source": [
    "## Example 1. Arithmetic operations."
   ]
  },
  {
   "cell_type": "code",
   "execution_count": 28,
   "metadata": {},
   "outputs": [
    {
     "name": "stdout",
     "output_type": "stream",
     "text": [
      "Compile Result: [1, 5, '+', 10, '-', 18, '*', 9, '/', 2, '%', 0, '==']\n"
     ]
    }
   ],
   "source": [
    "source_code = \"1 5 + 10 - 18 * 9 / 2 % 0 ==\"\n",
    "\n",
    "stack_machine = StackMachine(source_code)\n",
    "stack_machine.launch()"
   ]
  },
  {
   "cell_type": "code",
   "execution_count": 29,
   "metadata": {},
   "outputs": [
    {
     "data": {
      "text/plain": [
       "True"
      ]
     },
     "execution_count": 29,
     "metadata": {},
     "output_type": "execute_result"
    }
   ],
   "source": [
    "# Result:\n",
    "stack_machine.get_TOS()"
   ]
  },
  {
   "cell_type": "markdown",
   "metadata": {},
   "source": [
    "## Example 2. Compare operations."
   ]
  },
  {
   "cell_type": "code",
   "execution_count": 30,
   "metadata": {},
   "outputs": [
    {
     "name": "stdout",
     "output_type": "stream",
     "text": [
      "Compile Result: [2, 1, '>']\n"
     ]
    }
   ],
   "source": [
    "source_code = \"2 1 >\"\n",
    "\n",
    "stack_machine = StackMachine(source_code)\n",
    "stack_machine.launch()"
   ]
  },
  {
   "cell_type": "code",
   "execution_count": 31,
   "metadata": {},
   "outputs": [
    {
     "data": {
      "text/plain": [
       "True"
      ]
     },
     "execution_count": 31,
     "metadata": {},
     "output_type": "execute_result"
    }
   ],
   "source": [
    "# Result:\n",
    "stack_machine.get_TOS()"
   ]
  },
  {
   "cell_type": "code",
   "execution_count": 32,
   "metadata": {},
   "outputs": [
    {
     "name": "stdout",
     "output_type": "stream",
     "text": [
      "Compile Result: [1, 2, '<']\n"
     ]
    }
   ],
   "source": [
    "source_code = \"1 2 <\"\n",
    "\n",
    "stack_machine = StackMachine(source_code)\n",
    "stack_machine.launch()"
   ]
  },
  {
   "cell_type": "code",
   "execution_count": 33,
   "metadata": {},
   "outputs": [
    {
     "data": {
      "text/plain": [
       "True"
      ]
     },
     "execution_count": 33,
     "metadata": {},
     "output_type": "execute_result"
    }
   ],
   "source": [
    "# Result:\n",
    "stack_machine.get_TOS()"
   ]
  },
  {
   "cell_type": "code",
   "execution_count": 34,
   "metadata": {},
   "outputs": [
    {
     "name": "stdout",
     "output_type": "stream",
     "text": [
      "Compile Result: [2, 1, '>', 1, 2, '<', 'and']\n"
     ]
    }
   ],
   "source": [
    "source_code = \"2 1 > 1 2 < and\"\n",
    "\n",
    "stack_machine = StackMachine(source_code)\n",
    "stack_machine.launch()"
   ]
  },
  {
   "cell_type": "code",
   "execution_count": 35,
   "metadata": {},
   "outputs": [
    {
     "data": {
      "text/plain": [
       "True"
      ]
     },
     "execution_count": 35,
     "metadata": {},
     "output_type": "execute_result"
    }
   ],
   "source": [
    "# Result:\n",
    "stack_machine.get_TOS()"
   ]
  },
  {
   "cell_type": "code",
   "execution_count": 36,
   "metadata": {},
   "outputs": [
    {
     "name": "stdout",
     "output_type": "stream",
     "text": [
      "Compile Result: [2, 1, '<', 1, 2, '>', 'or']\n"
     ]
    }
   ],
   "source": [
    "source_code = \"2 1 < 1 2 > or\"\n",
    "\n",
    "stack_machine = StackMachine(source_code)\n",
    "stack_machine.launch()"
   ]
  },
  {
   "cell_type": "code",
   "execution_count": 37,
   "metadata": {},
   "outputs": [
    {
     "data": {
      "text/plain": [
       "False"
      ]
     },
     "execution_count": 37,
     "metadata": {},
     "output_type": "execute_result"
    }
   ],
   "source": [
    "# Result:\n",
    "stack_machine.get_TOS()"
   ]
  },
  {
   "cell_type": "markdown",
   "metadata": {},
   "source": [
    "## Example 3. First program with using heap.\n",
    "### Finds sum and product of 2 numbers and prints it."
   ]
  },
  {
   "cell_type": "code",
   "execution_count": 42,
   "metadata": {},
   "outputs": [],
   "source": [
    "source_code = ' '.join([\n",
    "    '\"Give me the first number:\"', \"print\", \"read\", \"cast_int\", '\"n1\"', \"store\",\n",
    "    '\"Give me the second number:\"', \"print\", \"read\", \"cast_int\", '\"n2\"', \"store\",\n",
    "    '\"Their sum is:\"', \"print\", '\"n1\"', \"load\", '\"n2\"', \"load\", \"+\", \"dup\", \"println\", '\"sum\"', \"store\",\n",
    "    '\"Their product is:\"', \"print\", '\"n1\"', \"load\", '\"n2\"', \"load\", \"*\", \"dup\", \"println\", '\"prod\"', \"store\",\n",
    "    '\"prod\"', \"load\", '\"sum\"', \"load\"\n",
    "])\n",
    "\n",
    "stack_machine = StackMachine(source_code)"
   ]
  },
  {
   "cell_type": "code",
   "execution_count": 43,
   "metadata": {},
   "outputs": [
    {
     "name": "stdout",
     "output_type": "stream",
     "text": [
      "Compile Result: ['\"Give me the first number:\"', 'print', 'read', 'cast_int', '\"n1\"', 'store', '\"Give me the second number:\"', 'print', 'read', 'cast_int', '\"n2\"', 'store', '\"Their sum is:\"', 'print', '\"n1\"', 'load', '\"n2\"', 'load', '+', 'dup', 'println', '\"sum\"', 'store', '\"Their product is:\"', 'print', '\"n1\"', 'load', '\"n2\"', 'load', '*', 'dup', 'println', '\"prod\"', 'store', '\"prod\"', 'load', '\"sum\"', 'load']\n",
      "Give me the first number: 1\n",
      "Give me the second number: 2\n",
      "Their sum is: 3\n",
      "Their product is: 2\n"
     ]
    }
   ],
   "source": [
    "stack_machine.launch()"
   ]
  }
 ],
 "metadata": {
  "kernelspec": {
   "display_name": "Python 3",
   "language": "python",
   "name": "python3"
  },
  "language_info": {
   "codemirror_mode": {
    "name": "ipython",
    "version": 3
   },
   "file_extension": ".py",
   "mimetype": "text/x-python",
   "name": "python",
   "nbconvert_exporter": "python",
   "pygments_lexer": "ipython3",
   "version": "3.6.9"
  }
 },
 "nbformat": 4,
 "nbformat_minor": 2
}
